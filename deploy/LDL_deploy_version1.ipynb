{
 "cells": [
  {
   "cell_type": "code",
   "execution_count": null,
   "id": "711c7abf",
   "metadata": {},
   "outputs": [],
   "source": [
    "#install library\n",
    "import streamlit as st\n",
    "import pandas as pd\n",
    "import numpy as np\n",
    "import xgboost as xgb\n",
    "\n",
    "#load model\n",
    "xgbDLP3v = xgb.XGBRegressor().load_model('XGBmodel_DLP.json')\n",
    "xgbDLP2v = xgb.XGBRegressor().load_model('XGBmodel_DLP2V.json')\n",
    "\n",
    "#predict LDL function\n",
    "#3variables: Chol,HDL, TG\n",
    "@st.cache\n",
    "def fit_xgbDLP3v(values):\n",
    "    res = xgbDLP3v.predict(values)\n",
    "    return res[0]\n",
    "\n",
    "#2variables: Chol, Tg\n",
    "@st.cache\n",
    "def fit_xgbDLP2v(values):\n",
    "    res = xgbDLP2v.predict(values)\n",
    "    return res[0]\n",
    "\n",
    "#[chol,hdl,tg]\n",
    "###start application###\n",
    "st.title('Indirect-LDL calculation by XGB-ThaiLDL model')\n",
    "txt1 = \"\"\"Calculat indirect-LDL from 2-3 parameters: cholesterol,\n",
    "triglyceride, HDL\"\"\"\n",
    "st.write(txt1)\n",
    "\n",
    "###Input values###\n",
    "st.header('Please insert Cholesterol, HDL, triglyceride')\n",
    "\n",
    "cho = st.number_input('Cholesterol', min_value=0, max_value=1000, value=200, step=1)\n",
    "hdl = st.number_input('HDL-C', min_value=0, max_value=120, value=40, step=1)\n",
    "tg = st.number_input('Triglyceride', min_value=0, max_value=1000, value=150, step=1)  \n",
    "\n",
    "#data\n",
    "info3v = np.array([[cho,hdl,tg]])\n",
    "info2v = np.array([[cho,tg]])\n",
    "\n",
    "#predict\n",
    "ans3v = fit_xgbDLP3v(info3v)\n",
    "ans2v = fit_xgbDLP2v(info2v)\n",
    "\n",
    "#show result\n",
    "if st.button('Calculate', key = 'calculate button'):\n",
    "    st.header('Indirect-LDL')\n",
    "    st.subheader('From 3 parameters: Cholesterol, HDL-C, Triglyceride')\n",
    "    st.write('Indirect-LDL =', round(ans3v,2), 'mg/dL')\n",
    "    st.subheader('From 2 parameters: Cholesterol, Triglyceride')\n",
    "    st.write('Indirect-LDL =', round(ans2v,2), 'mg/dL')\n"
   ]
  }
 ],
 "metadata": {
  "kernelspec": {
   "display_name": "LdLDeployEnv",
   "language": "python",
   "name": "ldldeployenv"
  },
  "language_info": {
   "codemirror_mode": {
    "name": "ipython",
    "version": 3
   },
   "file_extension": ".py",
   "mimetype": "text/x-python",
   "name": "python",
   "nbconvert_exporter": "python",
   "pygments_lexer": "ipython3",
   "version": "3.7.13"
  }
 },
 "nbformat": 4,
 "nbformat_minor": 5
}
